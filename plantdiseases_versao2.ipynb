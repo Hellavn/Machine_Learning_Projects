{
  "cells": [
    {
      "cell_type": "code",
      "execution_count": 1,
      "metadata": {
        "id": "tdwODCdfTenr"
      },
      "outputs": [],
      "source": [
        "import os\n",
        "import cv2 # OpenCV ou cv2 para tratamento de imagens;\n",
        "import numpy as np # Numpy para trabalharmos com matrizes n-dimensionais\n",
        "from keras.models import Sequential # Importando modelo sequencial\n",
        "from keras.layers.convolutional import Conv2D, MaxPooling2D # Camada de convolução e max pooling\n",
        "from keras.layers.core import Activation, Flatten, Dense # Camada da função de ativação, flatten, entre outros\n",
        "from keras.layers import Rescaling # Camada de escalonamento\n",
        "from keras.optimizers import Adam # optimizador Adam\n",
        "from keras.callbacks import ModelCheckpoint # Classe utilizada para acompanhamento durante o treinamento onde definimos os atributos que serão considerados para avaliação\n",
        "from tensorflow.data import AUTOTUNE\n",
        "from tensorflow.keras.utils import image_dataset_from_directory # Função que carrega o dataset de um diretório\n",
        "from tensorflow.keras import layers\n",
        "from tensorflow.keras.callbacks import EarlyStopping\n",
        "\n",
        "\n"
      ]
    },
    {
      "cell_type": "code",
      "execution_count": 2,
      "metadata": {
        "id": "bxWtMUeGgD2p"
      },
      "outputs": [],
      "source": [
        "def create_lenet(input_shape):\n",
        "    \"\"\"\n",
        "    Cria uma mini arquitetura lenet\n",
        "\n",
        "    Args:\n",
        "        input_shape: Uma lista de três valores inteiros que definem a forma de\\\n",
        "                entrada da rede. Exemplo: [100, 100, 3]\n",
        "\n",
        "    Returns:\n",
        "        Um modelo sequencial, seguindo a arquitetura lenet\n",
        "    \"\"\"\n",
        "    # Definimos que estamos criando um modelo sequencial\n",
        "    model = Sequential()\n",
        "\n",
        "    # Primeira camada do modelo:\n",
        "    model.add(Conv2D(20, (5, 5), padding=\"same\", input_shape=input_shape))\n",
        "    model.add(Activation(\"relu\"))\n",
        "    model.add(MaxPooling2D(pool_size=(2, 2), strides=(2, 2)))\n",
        "    model.add(layers.Dropout(0.2))\n",
        "\n",
        "    # Segunda camada do modelo:\n",
        "    model.add(Conv2D(70, (5, 5), padding=\"same\"))\n",
        "    model.add(Activation(\"relu\"))\n",
        "    model.add(MaxPooling2D(pool_size=(2, 2), strides=(2, 2)))\n",
        "    model.add(layers.Dropout(0.2))\n",
        "\n",
        "    # Primeira camada fully connected\n",
        "    model.add(Flatten())\n",
        "    model.add(Dense(500))\n",
        "    model.add(Activation(\"relu\"))\n",
        "\n",
        "    # Classificador softmax\n",
        "    model.add(Dense(classes))\n",
        "    model.add(Activation(\"sigmoid\"))\n",
        "    return model"
      ]
    },
    {
      "cell_type": "code",
      "execution_count": 4,
      "metadata": {
        "colab": {
          "base_uri": "https://localhost:8080/"
        },
        "id": "0RKXz_hEWGEr",
        "outputId": "d25bc6a7-981b-4666-dc2a-c81a9cc4af8b"
      },
      "outputs": [
        {
          "name": "stdout",
          "output_type": "stream",
          "text": [
            "Found 25000 files belonging to 2 classes.\n",
            "Using 20000 files for training.\n",
            "Found 25000 files belonging to 2 classes.\n",
            "Using 5000 files for validation.\n",
            "Model: \"sequential_1\"\n",
            "_________________________________________________________________\n",
            " Layer (type)                Output Shape              Param #   \n",
            "=================================================================\n",
            " conv2d_2 (Conv2D)           (None, 100, 100, 20)      1520      \n",
            "                                                                 \n",
            " activation_4 (Activation)   (None, 100, 100, 20)      0         \n",
            "                                                                 \n",
            " max_pooling2d_2 (MaxPooling  (None, 50, 50, 20)       0         \n",
            " 2D)                                                             \n",
            "                                                                 \n",
            " dropout_2 (Dropout)         (None, 50, 50, 20)        0         \n",
            "                                                                 \n",
            " conv2d_3 (Conv2D)           (None, 50, 50, 70)        35070     \n",
            "                                                                 \n",
            " activation_5 (Activation)   (None, 50, 50, 70)        0         \n",
            "                                                                 \n",
            " max_pooling2d_3 (MaxPooling  (None, 25, 25, 70)       0         \n",
            " 2D)                                                             \n",
            "                                                                 \n",
            " dropout_3 (Dropout)         (None, 25, 25, 70)        0         \n",
            "                                                                 \n",
            " flatten_1 (Flatten)         (None, 43750)             0         \n",
            "                                                                 \n",
            " dense_2 (Dense)             (None, 500)               21875500  \n",
            "                                                                 \n",
            " activation_6 (Activation)   (None, 500)               0         \n",
            "                                                                 \n",
            " dense_3 (Dense)             (None, 2)                 1002      \n",
            "                                                                 \n",
            " activation_7 (Activation)   (None, 2)                 0         \n",
            "                                                                 \n",
            "=================================================================\n",
            "Total params: 21,913,092\n",
            "Trainable params: 21,913,092\n",
            "Non-trainable params: 0\n",
            "_________________________________________________________________\n",
            "\n",
            " training network\n"
          ]
        }
      ],
      "source": [
        "if __name__ == \"__main__\":\n",
        "    train_path = \"D:\\projetos\\diversos\\cromai\\experimento3\\cats_and_dogs\" # Adicione aqui o caminho para chegar no diretório que contém as imagens de treino na sua maquina\n",
        "    models_path = \"models\" # Defina aqui onde serão salvos os modelos na sua maquina\n",
        "    width = 100 # Tamanho da largura da janela que será utilizada pelo modelo\n",
        "    height = 100 # Tamanho da altura da janela que será utilizada pelo modelo\n",
        "    depth = 3 # Profundidade das janelas utilizadas pelo modelo, caso seja RGB use 3, caso escala de cinza 1\n",
        "    classes = 2 # Quantidade de classes que o modelo utilizará\n",
        "    epochs = 20 # Quantidade de épocas (a quantidade de iterações que o modelo realizará durante o treinamento)\n",
        "    init_lr = 1e-3 # Taxa de aprendizado a ser utilizado pelo optimizador\n",
        "    batch_size = 60 # Tamanho dos lotes utilizados por cada epoca\n",
        "    input_shape = (height, width, depth) # entrada do modelo\n",
        "    save_model = os.path.join(models_path, \"lenet-{epoch:02d}-{accuracy:.3f}-{val_accuracy:.3f}.model\")\n",
        "    color_mode = {1:\"grayscale\", 3: \"rgb\"} # Usado para selecionar o colormode em função da variável depth\n",
        "\n",
        "    os.makedirs(models_path, exist_ok=True)\n",
        "\n",
        "    train_ds = image_dataset_from_directory(\n",
        "                            train_path,\n",
        "                            seed=123,\n",
        "                            label_mode='categorical',\n",
        "                            validation_split=0.2,\n",
        "                            subset=\"training\",\n",
        "                            color_mode=color_mode[depth],\n",
        "                            image_size=(height, width),\n",
        "                            batch_size=batch_size\n",
        "    )\n",
        "\n",
        "    val_ds = image_dataset_from_directory(\n",
        "                            train_path,\n",
        "                            seed=123,\n",
        "                            label_mode='categorical',\n",
        "                            validation_split=0.2,\n",
        "                            subset=\"validation\",\n",
        "                            color_mode=color_mode[depth],\n",
        "                            image_size=(height, width),\n",
        "                            batch_size=batch_size\n",
        "    )\n",
        "\n",
        "    rescaling_layer = Rescaling(1./255)\n",
        "    # pré-busca em buffer para que você possa produzir dados do disco sem que a E/S se torne um bloqueio\n",
        "    train_ds = train_ds.map(lambda x, y: (rescaling_layer(x), y), num_parallel_calls=AUTOTUNE)\n",
        "    val_ds = val_ds.map(lambda x, y: (rescaling_layer(x), y), num_parallel_calls=AUTOTUNE)\n",
        "\n",
        "    model = create_lenet(input_shape)\n",
        "\n",
        "    opt = Adam(lr=init_lr)\n",
        "\n",
        "    model.compile(loss=\"binary_crossentropy\", optimizer=opt, metrics=[\"accuracy\"])\n",
        "    model.summary()\n",
        "\n",
        "    print(\"\\n training network\")\n",
        "\n",
        "\n"
      ]
    },
    {
      "cell_type": "code",
      "execution_count": 7,
      "metadata": {
        "id": "94lmA6CfgIn6"
      },
      "outputs": [],
      "source": [
        "\n",
        "checkpoint1 = ModelCheckpoint(save_model, monitor='val_loss', verbose=1, save_best_only=True, mode='min')\n",
        "checkpoint2 = ModelCheckpoint(save_model, monitor='val_accuracy', verbose=1, save_best_only=True, mode='max')\n",
        "\n",
        "\n",
        "callbacks_list = [checkpoint1,checkpoint2]\n",
        "\n",
        "\n",
        "\n"
      ]
    },
    {
      "cell_type": "code",
      "execution_count": 8,
      "metadata": {
        "colab": {
          "base_uri": "https://localhost:8080/"
        },
        "id": "GpL3vZisgKh4",
        "outputId": "1d9b971d-57dc-4cae-c619-1a1165789157"
      },
      "outputs": [
        {
          "name": "stdout",
          "output_type": "stream",
          "text": [
            "Epoch 1/20\n"
          ]
        },
        {
          "name": "stdout",
          "output_type": "stream",
          "text": [
            "334/334 [==============================] - ETA: 0s - loss: 0.2856 - accuracy: 0.8794\n",
            "Epoch 1: val_loss improved from inf to 0.51876, saving model to models\\lenet-01-0.879-0.777.model\n"
          ]
        },
        {
          "name": "stderr",
          "output_type": "stream",
          "text": [
            "WARNING:absl:Found untraced functions such as _jit_compiled_convolution_op, _jit_compiled_convolution_op while saving (showing 2 of 2). These functions will not be directly callable after loading.\n"
          ]
        },
        {
          "name": "stdout",
          "output_type": "stream",
          "text": [
            "INFO:tensorflow:Assets written to: models\\lenet-01-0.879-0.777.model\\assets\n"
          ]
        },
        {
          "name": "stderr",
          "output_type": "stream",
          "text": [
            "INFO:tensorflow:Assets written to: models\\lenet-01-0.879-0.777.model\\assets\n"
          ]
        },
        {
          "name": "stdout",
          "output_type": "stream",
          "text": [
            "\n",
            "Epoch 1: val_accuracy improved from -inf to 0.77700, saving model to models\\lenet-01-0.879-0.777.model\n"
          ]
        },
        {
          "name": "stderr",
          "output_type": "stream",
          "text": [
            "WARNING:absl:Found untraced functions such as _jit_compiled_convolution_op, _jit_compiled_convolution_op while saving (showing 2 of 2). These functions will not be directly callable after loading.\n"
          ]
        },
        {
          "name": "stdout",
          "output_type": "stream",
          "text": [
            "INFO:tensorflow:Assets written to: models\\lenet-01-0.879-0.777.model\\assets\n"
          ]
        },
        {
          "name": "stderr",
          "output_type": "stream",
          "text": [
            "INFO:tensorflow:Assets written to: models\\lenet-01-0.879-0.777.model\\assets\n"
          ]
        },
        {
          "name": "stdout",
          "output_type": "stream",
          "text": [
            "334/334 [==============================] - 126s 376ms/step - loss: 0.2856 - accuracy: 0.8794 - val_loss: 0.5188 - val_accuracy: 0.7770\n",
            "Epoch 2/20\n",
            "334/334 [==============================] - ETA: 0s - loss: 0.2030 - accuracy: 0.9186\n",
            "Epoch 2: val_loss did not improve from 0.51876\n",
            "\n",
            "Epoch 2: val_accuracy improved from 0.77700 to 0.78600, saving model to models\\lenet-02-0.919-0.786.model\n"
          ]
        },
        {
          "name": "stderr",
          "output_type": "stream",
          "text": [
            "WARNING:absl:Found untraced functions such as _jit_compiled_convolution_op, _jit_compiled_convolution_op while saving (showing 2 of 2). These functions will not be directly callable after loading.\n"
          ]
        },
        {
          "name": "stdout",
          "output_type": "stream",
          "text": [
            "INFO:tensorflow:Assets written to: models\\lenet-02-0.919-0.786.model\\assets\n"
          ]
        },
        {
          "name": "stderr",
          "output_type": "stream",
          "text": [
            "INFO:tensorflow:Assets written to: models\\lenet-02-0.919-0.786.model\\assets\n"
          ]
        },
        {
          "name": "stdout",
          "output_type": "stream",
          "text": [
            "334/334 [==============================] - 122s 365ms/step - loss: 0.2030 - accuracy: 0.9186 - val_loss: 0.5350 - val_accuracy: 0.7860\n",
            "Epoch 3/20\n",
            "334/334 [==============================] - ETA: 0s - loss: 0.1447 - accuracy: 0.9447\n",
            "Epoch 3: val_loss did not improve from 0.51876\n",
            "\n",
            "Epoch 3: val_accuracy did not improve from 0.78600\n",
            "334/334 [==============================] - 118s 354ms/step - loss: 0.1447 - accuracy: 0.9447 - val_loss: 0.6245 - val_accuracy: 0.7842\n",
            "Epoch 4/20\n",
            "334/334 [==============================] - ETA: 0s - loss: 0.1094 - accuracy: 0.9600\n",
            "Epoch 4: val_loss did not improve from 0.51876\n",
            "\n",
            "Epoch 4: val_accuracy did not improve from 0.78600\n",
            "334/334 [==============================] - 120s 358ms/step - loss: 0.1094 - accuracy: 0.9600 - val_loss: 0.6555 - val_accuracy: 0.7846\n",
            "Epoch 5/20\n",
            "334/334 [==============================] - ETA: 0s - loss: 0.0802 - accuracy: 0.9721\n",
            "Epoch 5: val_loss did not improve from 0.51876\n",
            "\n",
            "Epoch 5: val_accuracy improved from 0.78600 to 0.79040, saving model to models\\lenet-05-0.972-0.790.model\n"
          ]
        },
        {
          "name": "stderr",
          "output_type": "stream",
          "text": [
            "WARNING:absl:Found untraced functions such as _jit_compiled_convolution_op, _jit_compiled_convolution_op while saving (showing 2 of 2). These functions will not be directly callable after loading.\n"
          ]
        },
        {
          "name": "stdout",
          "output_type": "stream",
          "text": [
            "INFO:tensorflow:Assets written to: models\\lenet-05-0.972-0.790.model\\assets\n"
          ]
        },
        {
          "name": "stderr",
          "output_type": "stream",
          "text": [
            "INFO:tensorflow:Assets written to: models\\lenet-05-0.972-0.790.model\\assets\n"
          ]
        },
        {
          "name": "stdout",
          "output_type": "stream",
          "text": [
            "334/334 [==============================] - 125s 374ms/step - loss: 0.0802 - accuracy: 0.9721 - val_loss: 0.7854 - val_accuracy: 0.7904\n",
            "Epoch 6/20\n",
            "334/334 [==============================] - ETA: 0s - loss: 0.0653 - accuracy: 0.9788\n",
            "Epoch 6: val_loss did not improve from 0.51876\n",
            "\n",
            "Epoch 6: val_accuracy did not improve from 0.79040\n",
            "334/334 [==============================] - 118s 353ms/step - loss: 0.0653 - accuracy: 0.9788 - val_loss: 0.7993 - val_accuracy: 0.7836\n",
            "Epoch 7/20\n",
            "334/334 [==============================] - ETA: 0s - loss: 0.0486 - accuracy: 0.9834\n",
            "Epoch 7: val_loss did not improve from 0.51876\n",
            "\n",
            "Epoch 7: val_accuracy improved from 0.79040 to 0.79080, saving model to models\\lenet-07-0.983-0.791.model\n"
          ]
        },
        {
          "name": "stderr",
          "output_type": "stream",
          "text": [
            "WARNING:absl:Found untraced functions such as _jit_compiled_convolution_op, _jit_compiled_convolution_op while saving (showing 2 of 2). These functions will not be directly callable after loading.\n"
          ]
        },
        {
          "name": "stdout",
          "output_type": "stream",
          "text": [
            "INFO:tensorflow:Assets written to: models\\lenet-07-0.983-0.791.model\\assets\n"
          ]
        },
        {
          "name": "stderr",
          "output_type": "stream",
          "text": [
            "INFO:tensorflow:Assets written to: models\\lenet-07-0.983-0.791.model\\assets\n"
          ]
        },
        {
          "name": "stdout",
          "output_type": "stream",
          "text": [
            "334/334 [==============================] - 122s 363ms/step - loss: 0.0486 - accuracy: 0.9834 - val_loss: 0.8094 - val_accuracy: 0.7908\n",
            "Epoch 8/20\n",
            "334/334 [==============================] - ETA: 0s - loss: 0.0450 - accuracy: 0.9852\n",
            "Epoch 8: val_loss did not improve from 0.51876\n",
            "\n",
            "Epoch 8: val_accuracy did not improve from 0.79080\n",
            "334/334 [==============================] - 118s 353ms/step - loss: 0.0450 - accuracy: 0.9852 - val_loss: 0.9147 - val_accuracy: 0.7750\n",
            "Epoch 9/20\n",
            "334/334 [==============================] - ETA: 0s - loss: 0.0471 - accuracy: 0.9844\n",
            "Epoch 9: val_loss did not improve from 0.51876\n",
            "\n",
            "Epoch 9: val_accuracy did not improve from 0.79080\n",
            "334/334 [==============================] - 118s 353ms/step - loss: 0.0471 - accuracy: 0.9844 - val_loss: 0.9353 - val_accuracy: 0.7876\n",
            "Epoch 10/20\n",
            "334/334 [==============================] - ETA: 0s - loss: 0.0343 - accuracy: 0.9897\n",
            "Epoch 10: val_loss did not improve from 0.51876\n",
            "\n",
            "Epoch 10: val_accuracy did not improve from 0.79080\n",
            "334/334 [==============================] - 118s 352ms/step - loss: 0.0343 - accuracy: 0.9897 - val_loss: 0.9937 - val_accuracy: 0.7826\n",
            "Epoch 11/20\n",
            "334/334 [==============================] - ETA: 0s - loss: 0.0336 - accuracy: 0.9888\n",
            "Epoch 11: val_loss did not improve from 0.51876\n",
            "\n",
            "Epoch 11: val_accuracy did not improve from 0.79080\n",
            "334/334 [==============================] - 118s 352ms/step - loss: 0.0336 - accuracy: 0.9888 - val_loss: 0.9674 - val_accuracy: 0.7904\n",
            "Epoch 12/20\n",
            "334/334 [==============================] - ETA: 0s - loss: 0.0308 - accuracy: 0.9893\n",
            "Epoch 12: val_loss did not improve from 0.51876\n",
            "\n",
            "Epoch 12: val_accuracy did not improve from 0.79080\n",
            "334/334 [==============================] - 119s 355ms/step - loss: 0.0308 - accuracy: 0.9893 - val_loss: 1.0233 - val_accuracy: 0.7874\n",
            "Epoch 13/20\n",
            "334/334 [==============================] - ETA: 0s - loss: 0.0285 - accuracy: 0.9916\n",
            "Epoch 13: val_loss did not improve from 0.51876\n",
            "\n",
            "Epoch 13: val_accuracy did not improve from 0.79080\n",
            "334/334 [==============================] - 118s 353ms/step - loss: 0.0285 - accuracy: 0.9916 - val_loss: 1.1042 - val_accuracy: 0.7844\n",
            "Epoch 14/20\n",
            "334/334 [==============================] - ETA: 0s - loss: 0.0253 - accuracy: 0.9915\n",
            "Epoch 14: val_loss did not improve from 0.51876\n",
            "\n",
            "Epoch 14: val_accuracy did not improve from 0.79080\n",
            "334/334 [==============================] - 119s 355ms/step - loss: 0.0253 - accuracy: 0.9915 - val_loss: 1.0991 - val_accuracy: 0.7864\n",
            "Epoch 15/20\n",
            "334/334 [==============================] - ETA: 0s - loss: 0.0183 - accuracy: 0.9942\n",
            "Epoch 15: val_loss did not improve from 0.51876\n",
            "\n",
            "Epoch 15: val_accuracy improved from 0.79080 to 0.79720, saving model to models\\lenet-15-0.994-0.797.model\n"
          ]
        },
        {
          "name": "stderr",
          "output_type": "stream",
          "text": [
            "WARNING:absl:Found untraced functions such as _jit_compiled_convolution_op, _jit_compiled_convolution_op while saving (showing 2 of 2). These functions will not be directly callable after loading.\n"
          ]
        },
        {
          "name": "stdout",
          "output_type": "stream",
          "text": [
            "INFO:tensorflow:Assets written to: models\\lenet-15-0.994-0.797.model\\assets\n"
          ]
        },
        {
          "name": "stderr",
          "output_type": "stream",
          "text": [
            "INFO:tensorflow:Assets written to: models\\lenet-15-0.994-0.797.model\\assets\n"
          ]
        },
        {
          "name": "stdout",
          "output_type": "stream",
          "text": [
            "334/334 [==============================] - 122s 365ms/step - loss: 0.0183 - accuracy: 0.9942 - val_loss: 1.1325 - val_accuracy: 0.7972\n",
            "Epoch 16/20\n",
            "334/334 [==============================] - ETA: 0s - loss: 0.0208 - accuracy: 0.9923\n",
            "Epoch 16: val_loss did not improve from 0.51876\n",
            "\n",
            "Epoch 16: val_accuracy did not improve from 0.79720\n",
            "334/334 [==============================] - 120s 357ms/step - loss: 0.0208 - accuracy: 0.9923 - val_loss: 1.2033 - val_accuracy: 0.7826\n",
            "Epoch 17/20\n",
            "334/334 [==============================] - ETA: 0s - loss: 0.0293 - accuracy: 0.9900\n",
            "Epoch 17: val_loss did not improve from 0.51876\n",
            "\n",
            "Epoch 17: val_accuracy did not improve from 0.79720\n",
            "334/334 [==============================] - 120s 358ms/step - loss: 0.0293 - accuracy: 0.9900 - val_loss: 1.2456 - val_accuracy: 0.7660\n",
            "Epoch 18/20\n",
            "334/334 [==============================] - ETA: 0s - loss: 0.0217 - accuracy: 0.9930\n",
            "Epoch 18: val_loss did not improve from 0.51876\n",
            "\n",
            "Epoch 18: val_accuracy did not improve from 0.79720\n",
            "334/334 [==============================] - 128s 384ms/step - loss: 0.0217 - accuracy: 0.9930 - val_loss: 1.3675 - val_accuracy: 0.7734\n",
            "Epoch 19/20\n",
            "334/334 [==============================] - ETA: 0s - loss: 0.0202 - accuracy: 0.9931\n",
            "Epoch 19: val_loss did not improve from 0.51876\n",
            "\n",
            "Epoch 19: val_accuracy did not improve from 0.79720\n",
            "334/334 [==============================] - 135s 401ms/step - loss: 0.0202 - accuracy: 0.9931 - val_loss: 1.2462 - val_accuracy: 0.7892\n",
            "Epoch 20/20\n",
            "334/334 [==============================] - ETA: 0s - loss: 0.0229 - accuracy: 0.9924\n",
            "Epoch 20: val_loss did not improve from 0.51876\n",
            "\n",
            "Epoch 20: val_accuracy did not improve from 0.79720\n",
            "334/334 [==============================] - 115s 343ms/step - loss: 0.0229 - accuracy: 0.9924 - val_loss: 1.3008 - val_accuracy: 0.7840\n"
          ]
        }
      ],
      "source": [
        "H = model.fit(train_ds,\n",
        "        validation_data=val_ds,\n",
        "        epochs=epochs,\n",
        "        verbose=1,\n",
        "        callbacks=callbacks_list\n",
        ")"
      ]
    },
    {
      "cell_type": "code",
      "execution_count": 9,
      "metadata": {
        "id": "LRWeEMsSOwwR"
      },
      "outputs": [
        {
          "data": {
            "image/png": "[encoded data removed]",
            "text/plain": [
              "<Figure size 1600x400 with 2 Axes>"
            ]
          },
          "metadata": {},
          "output_type": "display_data"
        }
      ],
      "source": [
        "from matplotlib import pyplot as plt\n",
        "def plot_accuracy_and_loss(train_model):\n",
        "    hist = train_model.history\n",
        "    acc = hist['accuracy']\n",
        "    val_acc = hist['val_accuracy']\n",
        "    loss = hist['loss']\n",
        "    val_loss = hist['val_loss']\n",
        "    epochs = range(len(acc))\n",
        "    f, ax = plt.subplots(1,2, figsize=(16,4))\n",
        "    ax[0].plot(epochs, acc, 'g', label='Training accuracy', marker='D', mec='b', ms='3')\n",
        "    ax[0].plot(epochs, val_acc, 'r', label='Validation accuracy', marker='o', mec='yellow', ms='3')\n",
        "    ax[0].set_title('Training and validation accuracy')\n",
        "    ax[0].legend()\n",
        "    ax[1].plot(epochs, loss, 'g', label='Training loss', marker='D', mec='b', ms='3')\n",
        "    ax[1].plot(epochs, val_loss, 'r', label='Validation loss', marker='o', mec='yellow', ms='3')\n",
        "    ax[1].set_title('Training and validation loss')\n",
        "    ax[1].legend()\n",
        "    plt.show()\n",
        "plot_accuracy_and_loss(H)"
      ]
    },
    {
      "cell_type": "code",
      "execution_count": 14,
      "metadata": {
        "id": "s-m9BuK1-vON"
      },
      "outputs": [
        {
          "data": {
            "text/plain": [
              "<keras.callbacks.History at 0x25fea5bcfd0>"
            ]
          },
          "execution_count": 14,
          "metadata": {},
          "output_type": "execute_result"
        }
      ],
      "source": [
        "H"
      ]
    },
    {
      "cell_type": "code",
      "execution_count": 13,
      "metadata": {},
      "outputs": [],
      "source": [
        "observacoes = pd.DataFrame({\n",
        "    'observacoes': ['1 – Remoção do early stopping.',\n",
        "                    '2 – Alteração da variavel.'\n",
        "\n",
        "     \n",
        "                    ]\n",
        "})"
      ]
    },
    {
      "cell_type": "code",
      "execution_count": 10,
      "metadata": {
        "id": "i_Z6HnrbIuBj"
      },
      "outputs": [],
      "source": [
        "import pandas as pd\n",
        "csv_file_path = r'D:\\projetos\\diversos\\cromai\\experimento3\\history_experimento3_v1.csv'\n",
        "\n",
        "history_dict = H.history\n",
        "\n",
        "# Convertendo o dicionário do histórico em um DataFrame pandas\n",
        "history_df = pd.DataFrame(history_dict)"
      ]
    },
    {
      "cell_type": "code",
      "execution_count": 11,
      "metadata": {},
      "outputs": [
        {
          "data": {
            "text/html": [
              "<div>\n",
              "<style scoped>\n",
              "    .dataframe tbody tr th:only-of-type {\n",
              "        vertical-align: middle;\n",
              "    }\n",
              "\n",
              "    .dataframe tbody tr th {\n",
              "        vertical-align: top;\n",
              "    }\n",
              "\n",
              "    .dataframe thead th {\n",
              "        text-align: right;\n",
              "    }\n",
              "</style>\n",
              "<table border=\"1\" class=\"dataframe\">\n",
              "  <thead>\n",
              "    <tr style=\"text-align: right;\">\n",
              "      <th></th>\n",
              "      <th>loss</th>\n",
              "      <th>accuracy</th>\n",
              "      <th>val_loss</th>\n",
              "      <th>val_accuracy</th>\n",
              "    </tr>\n",
              "  </thead>\n",
              "  <tbody>\n",
              "    <tr>\n",
              "      <th>0</th>\n",
              "      <td>0.285578</td>\n",
              "      <td>0.87940</td>\n",
              "      <td>0.518763</td>\n",
              "      <td>0.7770</td>\n",
              "    </tr>\n",
              "    <tr>\n",
              "      <th>1</th>\n",
              "      <td>0.203032</td>\n",
              "      <td>0.91855</td>\n",
              "      <td>0.535042</td>\n",
              "      <td>0.7860</td>\n",
              "    </tr>\n",
              "    <tr>\n",
              "      <th>2</th>\n",
              "      <td>0.144664</td>\n",
              "      <td>0.94470</td>\n",
              "      <td>0.624456</td>\n",
              "      <td>0.7842</td>\n",
              "    </tr>\n",
              "    <tr>\n",
              "      <th>3</th>\n",
              "      <td>0.109401</td>\n",
              "      <td>0.96005</td>\n",
              "      <td>0.655526</td>\n",
              "      <td>0.7846</td>\n",
              "    </tr>\n",
              "    <tr>\n",
              "      <th>4</th>\n",
              "      <td>0.080157</td>\n",
              "      <td>0.97205</td>\n",
              "      <td>0.785416</td>\n",
              "      <td>0.7904</td>\n",
              "    </tr>\n",
              "    <tr>\n",
              "      <th>5</th>\n",
              "      <td>0.065336</td>\n",
              "      <td>0.97880</td>\n",
              "      <td>0.799347</td>\n",
              "      <td>0.7836</td>\n",
              "    </tr>\n",
              "    <tr>\n",
              "      <th>6</th>\n",
              "      <td>0.048557</td>\n",
              "      <td>0.98340</td>\n",
              "      <td>0.809368</td>\n",
              "      <td>0.7908</td>\n",
              "    </tr>\n",
              "    <tr>\n",
              "      <th>7</th>\n",
              "      <td>0.045041</td>\n",
              "      <td>0.98525</td>\n",
              "      <td>0.914711</td>\n",
              "      <td>0.7750</td>\n",
              "    </tr>\n",
              "    <tr>\n",
              "      <th>8</th>\n",
              "      <td>0.047083</td>\n",
              "      <td>0.98440</td>\n",
              "      <td>0.935321</td>\n",
              "      <td>0.7876</td>\n",
              "    </tr>\n",
              "    <tr>\n",
              "      <th>9</th>\n",
              "      <td>0.034337</td>\n",
              "      <td>0.98965</td>\n",
              "      <td>0.993746</td>\n",
              "      <td>0.7826</td>\n",
              "    </tr>\n",
              "    <tr>\n",
              "      <th>10</th>\n",
              "      <td>0.033595</td>\n",
              "      <td>0.98880</td>\n",
              "      <td>0.967412</td>\n",
              "      <td>0.7904</td>\n",
              "    </tr>\n",
              "    <tr>\n",
              "      <th>11</th>\n",
              "      <td>0.030832</td>\n",
              "      <td>0.98925</td>\n",
              "      <td>1.023310</td>\n",
              "      <td>0.7874</td>\n",
              "    </tr>\n",
              "    <tr>\n",
              "      <th>12</th>\n",
              "      <td>0.028503</td>\n",
              "      <td>0.99155</td>\n",
              "      <td>1.104225</td>\n",
              "      <td>0.7844</td>\n",
              "    </tr>\n",
              "    <tr>\n",
              "      <th>13</th>\n",
              "      <td>0.025277</td>\n",
              "      <td>0.99145</td>\n",
              "      <td>1.099092</td>\n",
              "      <td>0.7864</td>\n",
              "    </tr>\n",
              "    <tr>\n",
              "      <th>14</th>\n",
              "      <td>0.018321</td>\n",
              "      <td>0.99425</td>\n",
              "      <td>1.132477</td>\n",
              "      <td>0.7972</td>\n",
              "    </tr>\n",
              "    <tr>\n",
              "      <th>15</th>\n",
              "      <td>0.020772</td>\n",
              "      <td>0.99235</td>\n",
              "      <td>1.203292</td>\n",
              "      <td>0.7826</td>\n",
              "    </tr>\n",
              "    <tr>\n",
              "      <th>16</th>\n",
              "      <td>0.029347</td>\n",
              "      <td>0.98995</td>\n",
              "      <td>1.245621</td>\n",
              "      <td>0.7660</td>\n",
              "    </tr>\n",
              "    <tr>\n",
              "      <th>17</th>\n",
              "      <td>0.021732</td>\n",
              "      <td>0.99305</td>\n",
              "      <td>1.367462</td>\n",
              "      <td>0.7734</td>\n",
              "    </tr>\n",
              "    <tr>\n",
              "      <th>18</th>\n",
              "      <td>0.020174</td>\n",
              "      <td>0.99310</td>\n",
              "      <td>1.246233</td>\n",
              "      <td>0.7892</td>\n",
              "    </tr>\n",
              "    <tr>\n",
              "      <th>19</th>\n",
              "      <td>0.022861</td>\n",
              "      <td>0.99245</td>\n",
              "      <td>1.300786</td>\n",
              "      <td>0.7840</td>\n",
              "    </tr>\n",
              "  </tbody>\n",
              "</table>\n",
              "</div>"
            ],
            "text/plain": [
              "        loss  accuracy  val_loss  val_accuracy\n",
              "0   0.285578   0.87940  0.518763        0.7770\n",
              "1   0.203032   0.91855  0.535042        0.7860\n",
              "2   0.144664   0.94470  0.624456        0.7842\n",
              "3   0.109401   0.96005  0.655526        0.7846\n",
              "4   0.080157   0.97205  0.785416        0.7904\n",
              "5   0.065336   0.97880  0.799347        0.7836\n",
              "6   0.048557   0.98340  0.809368        0.7908\n",
              "7   0.045041   0.98525  0.914711        0.7750\n",
              "8   0.047083   0.98440  0.935321        0.7876\n",
              "9   0.034337   0.98965  0.993746        0.7826\n",
              "10  0.033595   0.98880  0.967412        0.7904\n",
              "11  0.030832   0.98925  1.023310        0.7874\n",
              "12  0.028503   0.99155  1.104225        0.7844\n",
              "13  0.025277   0.99145  1.099092        0.7864\n",
              "14  0.018321   0.99425  1.132477        0.7972\n",
              "15  0.020772   0.99235  1.203292        0.7826\n",
              "16  0.029347   0.98995  1.245621        0.7660\n",
              "17  0.021732   0.99305  1.367462        0.7734\n",
              "18  0.020174   0.99310  1.246233        0.7892\n",
              "19  0.022861   0.99245  1.300786        0.7840"
            ]
          },
          "execution_count": 11,
          "metadata": {},
          "output_type": "execute_result"
        }
      ],
      "source": [
        "history_df "
      ]
    },
    {
      "cell_type": "code",
      "execution_count": 15,
      "metadata": {
        "id": "KpbxgcVDMmsY"
      },
      "outputs": [],
      "source": [
        "with open(csv_file_path, 'w') as f:\n",
        "  observacoes['observacoes'].to_csv(f, sep=';')\n",
        "  history_df.to_csv(f, sep=';')"
      ]
    },
    {
      "cell_type": "code",
      "execution_count": 16,
      "metadata": {},
      "outputs": [
        {
          "name": "stdout",
          "output_type": "stream",
          "text": [
            "    val_loss  val_accuracy\n",
            "0   0.518763        0.7770\n",
            "1   0.535042        0.7860\n",
            "2   0.624456        0.7842\n",
            "3   0.655526        0.7846\n",
            "4   0.785416        0.7904\n",
            "5   0.799347        0.7836\n",
            "6   0.809368        0.7908\n",
            "7   0.914711        0.7750\n",
            "8   0.935321        0.7876\n",
            "9   0.993746        0.7826\n",
            "10  0.967412        0.7904\n",
            "11  1.023310        0.7874\n",
            "12  1.104225        0.7844\n",
            "13  1.099092        0.7864\n",
            "14  1.132477        0.7972\n",
            "15  1.203292        0.7826\n",
            "16  1.245621        0.7660\n",
            "17  1.367462        0.7734\n",
            "18  1.246233        0.7892\n",
            "19  1.300786        0.7840\n"
          ]
        }
      ],
      "source": [
        "validacao_df = history_df[['val_loss', 'val_accuracy']]\n",
        "\n",
        "print(validacao_df)"
      ]
    },
    {
      "cell_type": "code",
      "execution_count": 17,
      "metadata": {},
      "outputs": [],
      "source": [
        "csv_file_path_validacao = r'D:\\projetos\\diversos\\cromai\\experimento3\\validacao_v1.csv'\n",
        "with open(csv_file_path_validacao, 'w') as v:\n",
        "  observacoes['observacoes'].to_csv(v, sep=';')\n",
        "  validacao_df.to_csv(v, sep=';')"
      ]
    }
  ],
  "metadata": {
    "colab": {
      "provenance": []
    },
    "kernelspec": {
      "display_name": "Python 3",
      "name": "python3"
    },
    "language_info": {
      "codemirror_mode": {
        "name": "ipython",
        "version": 3
      },
      "file_extension": ".py",
      "mimetype": "text/x-python",
      "name": "python",
      "nbconvert_exporter": "python",
      "pygments_lexer": "ipython3",
      "version": "3.8.5"
    }
  },
  "nbformat": 4,
  "nbformat_minor": 0
}
